{
 "cells": [
  {
   "cell_type": "code",
   "execution_count": 276,
   "metadata": {},
   "outputs": [],
   "source": [
    "# Dependencies and Setup\n",
    "%matplotlib inline\n",
    "import matplotlib.pyplot as plt\n",
    "import pandas as pd\n",
    "import numpy as np\n",
    "from scipy.stats import sem\n",
    "\n",
    "# Hide warning messages in notebook\n",
    "import warnings\n",
    "warnings.filterwarnings('ignore')"
   ]
  },
  {
   "cell_type": "code",
   "execution_count": 277,
   "metadata": {},
   "outputs": [
    {
     "data": {
      "text/html": [
       "<div>\n",
       "<style scoped>\n",
       "    .dataframe tbody tr th:only-of-type {\n",
       "        vertical-align: middle;\n",
       "    }\n",
       "\n",
       "    .dataframe tbody tr th {\n",
       "        vertical-align: top;\n",
       "    }\n",
       "\n",
       "    .dataframe thead th {\n",
       "        text-align: right;\n",
       "    }\n",
       "</style>\n",
       "<table border=\"1\" class=\"dataframe\">\n",
       "  <thead>\n",
       "    <tr style=\"text-align: right;\">\n",
       "      <th></th>\n",
       "      <th>Mouse ID</th>\n",
       "      <th>Drug</th>\n",
       "    </tr>\n",
       "  </thead>\n",
       "  <tbody>\n",
       "    <tr>\n",
       "      <th>0</th>\n",
       "      <td>f234</td>\n",
       "      <td>Stelasyn</td>\n",
       "    </tr>\n",
       "    <tr>\n",
       "      <th>1</th>\n",
       "      <td>x402</td>\n",
       "      <td>Stelasyn</td>\n",
       "    </tr>\n",
       "    <tr>\n",
       "      <th>2</th>\n",
       "      <td>a492</td>\n",
       "      <td>Stelasyn</td>\n",
       "    </tr>\n",
       "    <tr>\n",
       "      <th>3</th>\n",
       "      <td>w540</td>\n",
       "      <td>Stelasyn</td>\n",
       "    </tr>\n",
       "    <tr>\n",
       "      <th>4</th>\n",
       "      <td>v764</td>\n",
       "      <td>Stelasyn</td>\n",
       "    </tr>\n",
       "  </tbody>\n",
       "</table>\n",
       "</div>"
      ],
      "text/plain": [
       "  Mouse ID      Drug\n",
       "0     f234  Stelasyn\n",
       "1     x402  Stelasyn\n",
       "2     a492  Stelasyn\n",
       "3     w540  Stelasyn\n",
       "4     v764  Stelasyn"
      ]
     },
     "execution_count": 277,
     "metadata": {},
     "output_type": "execute_result"
    }
   ],
   "source": [
    "# File to Load (Remember to Change These)\n",
    "mouse_drug_data_to_load = \"data/mouse_drug_data.csv\"\n",
    "clinical_trial_data_to_load = \"data/clinicaltrial_data.csv\"\n",
    "\n",
    "# Read the Mouse and Drug Data and the Clinical Trial Data\n",
    "\n",
    "mouse_to_drug = pd.read_csv(mouse_drug_data_to_load)\n",
    "mouse_to_drug.head()"
   ]
  },
  {
   "cell_type": "code",
   "execution_count": 278,
   "metadata": {},
   "outputs": [
    {
     "data": {
      "text/html": [
       "<div>\n",
       "<style scoped>\n",
       "    .dataframe tbody tr th:only-of-type {\n",
       "        vertical-align: middle;\n",
       "    }\n",
       "\n",
       "    .dataframe tbody tr th {\n",
       "        vertical-align: top;\n",
       "    }\n",
       "\n",
       "    .dataframe thead th {\n",
       "        text-align: right;\n",
       "    }\n",
       "</style>\n",
       "<table border=\"1\" class=\"dataframe\">\n",
       "  <thead>\n",
       "    <tr style=\"text-align: right;\">\n",
       "      <th></th>\n",
       "      <th>Mouse ID</th>\n",
       "      <th>Timepoint</th>\n",
       "      <th>Tumor Volume (mm3)</th>\n",
       "      <th>Metastatic Sites</th>\n",
       "    </tr>\n",
       "  </thead>\n",
       "  <tbody>\n",
       "    <tr>\n",
       "      <th>0</th>\n",
       "      <td>b128</td>\n",
       "      <td>0</td>\n",
       "      <td>45.0</td>\n",
       "      <td>0</td>\n",
       "    </tr>\n",
       "    <tr>\n",
       "      <th>1</th>\n",
       "      <td>f932</td>\n",
       "      <td>0</td>\n",
       "      <td>45.0</td>\n",
       "      <td>0</td>\n",
       "    </tr>\n",
       "    <tr>\n",
       "      <th>2</th>\n",
       "      <td>g107</td>\n",
       "      <td>0</td>\n",
       "      <td>45.0</td>\n",
       "      <td>0</td>\n",
       "    </tr>\n",
       "    <tr>\n",
       "      <th>3</th>\n",
       "      <td>a457</td>\n",
       "      <td>0</td>\n",
       "      <td>45.0</td>\n",
       "      <td>0</td>\n",
       "    </tr>\n",
       "    <tr>\n",
       "      <th>4</th>\n",
       "      <td>c819</td>\n",
       "      <td>0</td>\n",
       "      <td>45.0</td>\n",
       "      <td>0</td>\n",
       "    </tr>\n",
       "  </tbody>\n",
       "</table>\n",
       "</div>"
      ],
      "text/plain": [
       "  Mouse ID  Timepoint  Tumor Volume (mm3)  Metastatic Sites\n",
       "0     b128          0                45.0                 0\n",
       "1     f932          0                45.0                 0\n",
       "2     g107          0                45.0                 0\n",
       "3     a457          0                45.0                 0\n",
       "4     c819          0                45.0                 0"
      ]
     },
     "execution_count": 278,
     "metadata": {},
     "output_type": "execute_result"
    }
   ],
   "source": [
    "clinical_trial = pd.read_csv(clinical_trial_data_to_load)\n",
    "clinical_trial.head()"
   ]
  },
  {
   "cell_type": "code",
   "execution_count": 279,
   "metadata": {},
   "outputs": [
    {
     "data": {
      "text/plain": [
       "g989    13\n",
       "w422    10\n",
       "m601    10\n",
       "t451    10\n",
       "a401    10\n",
       "        ..\n",
       "t573     1\n",
       "l872     1\n",
       "o848     1\n",
       "h428     1\n",
       "n482     1\n",
       "Name: Mouse ID, Length: 249, dtype: int64"
      ]
     },
     "execution_count": 279,
     "metadata": {},
     "output_type": "execute_result"
    }
   ],
   "source": [
    "clinical_trial[\"Mouse ID\"].value_counts()"
   ]
  },
  {
   "cell_type": "code",
   "execution_count": 280,
   "metadata": {},
   "outputs": [
    {
     "data": {
      "text/plain": [
       "0     250\n",
       "5     238\n",
       "10    223\n",
       "15    207\n",
       "20    195\n",
       "25    183\n",
       "30    171\n",
       "35    154\n",
       "40    142\n",
       "45    130\n",
       "Name: Timepoint, dtype: int64"
      ]
     },
     "execution_count": 280,
     "metadata": {},
     "output_type": "execute_result"
    }
   ],
   "source": [
    "clinical_trial[\"Timepoint\"].value_counts()"
   ]
  },
  {
   "cell_type": "code",
   "execution_count": 281,
   "metadata": {},
   "outputs": [
    {
     "data": {
      "text/html": [
       "<div>\n",
       "<style scoped>\n",
       "    .dataframe tbody tr th:only-of-type {\n",
       "        vertical-align: middle;\n",
       "    }\n",
       "\n",
       "    .dataframe tbody tr th {\n",
       "        vertical-align: top;\n",
       "    }\n",
       "\n",
       "    .dataframe thead th {\n",
       "        text-align: right;\n",
       "    }\n",
       "</style>\n",
       "<table border=\"1\" class=\"dataframe\">\n",
       "  <thead>\n",
       "    <tr style=\"text-align: right;\">\n",
       "      <th></th>\n",
       "      <th>Mouse ID</th>\n",
       "      <th>Drug</th>\n",
       "      <th>Timepoint</th>\n",
       "      <th>Tumor Volume (mm3)</th>\n",
       "      <th>Metastatic Sites</th>\n",
       "    </tr>\n",
       "  </thead>\n",
       "  <tbody>\n",
       "    <tr>\n",
       "      <th>0</th>\n",
       "      <td>f234</td>\n",
       "      <td>Stelasyn</td>\n",
       "      <td>0</td>\n",
       "      <td>45.000000</td>\n",
       "      <td>0</td>\n",
       "    </tr>\n",
       "    <tr>\n",
       "      <th>1</th>\n",
       "      <td>f234</td>\n",
       "      <td>Stelasyn</td>\n",
       "      <td>5</td>\n",
       "      <td>47.313491</td>\n",
       "      <td>0</td>\n",
       "    </tr>\n",
       "    <tr>\n",
       "      <th>2</th>\n",
       "      <td>f234</td>\n",
       "      <td>Stelasyn</td>\n",
       "      <td>10</td>\n",
       "      <td>47.904324</td>\n",
       "      <td>0</td>\n",
       "    </tr>\n",
       "    <tr>\n",
       "      <th>3</th>\n",
       "      <td>f234</td>\n",
       "      <td>Stelasyn</td>\n",
       "      <td>15</td>\n",
       "      <td>48.735197</td>\n",
       "      <td>1</td>\n",
       "    </tr>\n",
       "    <tr>\n",
       "      <th>4</th>\n",
       "      <td>f234</td>\n",
       "      <td>Stelasyn</td>\n",
       "      <td>20</td>\n",
       "      <td>51.112713</td>\n",
       "      <td>2</td>\n",
       "    </tr>\n",
       "  </tbody>\n",
       "</table>\n",
       "</div>"
      ],
      "text/plain": [
       "  Mouse ID      Drug  Timepoint  Tumor Volume (mm3)  Metastatic Sites\n",
       "0     f234  Stelasyn          0           45.000000                 0\n",
       "1     f234  Stelasyn          5           47.313491                 0\n",
       "2     f234  Stelasyn         10           47.904324                 0\n",
       "3     f234  Stelasyn         15           48.735197                 1\n",
       "4     f234  Stelasyn         20           51.112713                 2"
      ]
     },
     "execution_count": 281,
     "metadata": {},
     "output_type": "execute_result"
    }
   ],
   "source": [
    "# Combine the data into a single dataset\n",
    "combined = pd.merge(mouse_to_drug,clinical_trial,on=\"Mouse ID\")\n",
    "\n",
    "# Display the data table for preview\n",
    "combined.head()"
   ]
  },
  {
   "cell_type": "markdown",
   "metadata": {},
   "source": [
    "## Tumor Response to Treatment"
   ]
  },
  {
   "cell_type": "code",
   "execution_count": 282,
   "metadata": {},
   "outputs": [],
   "source": [
    "# Store the Mean Tumor Volume Data Grouped by Drug and Timepoint \n",
    "grouped = combined.groupby([\"Drug\",\"Timepoint\"])"
   ]
  },
  {
   "cell_type": "code",
   "execution_count": 283,
   "metadata": {},
   "outputs": [
    {
     "data": {
      "text/plain": [
       "Ramicane     25\n",
       "Infubinol    25\n",
       "Ketapril     25\n",
       "Zoniferol    25\n",
       "Capomulin    25\n",
       "Placebo      25\n",
       "Stelasyn     25\n",
       "Propriva     25\n",
       "Ceftamin     25\n",
       "Naftisol     25\n",
       "Name: Drug, dtype: int64"
      ]
     },
     "execution_count": 283,
     "metadata": {},
     "output_type": "execute_result"
    }
   ],
   "source": [
    "# count how many drugs\n",
    "mouse_to_drug[\"Drug\"].value_counts()"
   ]
  },
  {
   "cell_type": "code",
   "execution_count": 284,
   "metadata": {},
   "outputs": [
    {
     "data": {
      "text/html": [
       "<div>\n",
       "<style scoped>\n",
       "    .dataframe tbody tr th:only-of-type {\n",
       "        vertical-align: middle;\n",
       "    }\n",
       "\n",
       "    .dataframe tbody tr th {\n",
       "        vertical-align: top;\n",
       "    }\n",
       "\n",
       "    .dataframe thead th {\n",
       "        text-align: right;\n",
       "    }\n",
       "</style>\n",
       "<table border=\"1\" class=\"dataframe\">\n",
       "  <thead>\n",
       "    <tr style=\"text-align: right;\">\n",
       "      <th></th>\n",
       "      <th></th>\n",
       "      <th>mice_count</th>\n",
       "    </tr>\n",
       "    <tr>\n",
       "      <th>Drug</th>\n",
       "      <th>Timepoint</th>\n",
       "      <th></th>\n",
       "    </tr>\n",
       "  </thead>\n",
       "  <tbody>\n",
       "    <tr>\n",
       "      <th rowspan=\"5\" valign=\"top\">Capomulin</th>\n",
       "      <th>0</th>\n",
       "      <td>25</td>\n",
       "    </tr>\n",
       "    <tr>\n",
       "      <th>5</th>\n",
       "      <td>25</td>\n",
       "    </tr>\n",
       "    <tr>\n",
       "      <th>10</th>\n",
       "      <td>25</td>\n",
       "    </tr>\n",
       "    <tr>\n",
       "      <th>15</th>\n",
       "      <td>24</td>\n",
       "    </tr>\n",
       "    <tr>\n",
       "      <th>20</th>\n",
       "      <td>23</td>\n",
       "    </tr>\n",
       "  </tbody>\n",
       "</table>\n",
       "</div>"
      ],
      "text/plain": [
       "                     mice_count\n",
       "Drug      Timepoint            \n",
       "Capomulin 0                  25\n",
       "          5                  25\n",
       "          10                 25\n",
       "          15                 24\n",
       "          20                 23"
      ]
     },
     "execution_count": 284,
     "metadata": {},
     "output_type": "execute_result"
    }
   ],
   "source": [
    "# Convert to DataFrame\n",
    "drug_mouse_ct = pd.DataFrame(grouped[\"Mouse ID\"].count())\n",
    "drug_mouse_ct = drug_mouse_ct.rename(columns={\"Mouse ID\":\"mice_count\"})\n",
    "\n",
    "# Preview DataFrame\n",
    "drug_mouse_ct.head()"
   ]
  },
  {
   "cell_type": "code",
   "execution_count": 285,
   "metadata": {},
   "outputs": [
    {
     "data": {
      "text/html": [
       "<div>\n",
       "<style scoped>\n",
       "    .dataframe tbody tr th:only-of-type {\n",
       "        vertical-align: middle;\n",
       "    }\n",
       "\n",
       "    .dataframe tbody tr th {\n",
       "        vertical-align: top;\n",
       "    }\n",
       "\n",
       "    .dataframe thead th {\n",
       "        text-align: right;\n",
       "    }\n",
       "</style>\n",
       "<table border=\"1\" class=\"dataframe\">\n",
       "  <thead>\n",
       "    <tr style=\"text-align: right;\">\n",
       "      <th></th>\n",
       "      <th></th>\n",
       "      <th>avg_tumor_size</th>\n",
       "    </tr>\n",
       "    <tr>\n",
       "      <th>Drug</th>\n",
       "      <th>Timepoint</th>\n",
       "      <th></th>\n",
       "    </tr>\n",
       "  </thead>\n",
       "  <tbody>\n",
       "    <tr>\n",
       "      <th rowspan=\"5\" valign=\"top\">Capomulin</th>\n",
       "      <th>0</th>\n",
       "      <td>45.000000</td>\n",
       "    </tr>\n",
       "    <tr>\n",
       "      <th>5</th>\n",
       "      <td>44.266086</td>\n",
       "    </tr>\n",
       "    <tr>\n",
       "      <th>10</th>\n",
       "      <td>43.084291</td>\n",
       "    </tr>\n",
       "    <tr>\n",
       "      <th>15</th>\n",
       "      <td>42.064317</td>\n",
       "    </tr>\n",
       "    <tr>\n",
       "      <th>20</th>\n",
       "      <td>40.716325</td>\n",
       "    </tr>\n",
       "  </tbody>\n",
       "</table>\n",
       "</div>"
      ],
      "text/plain": [
       "                     avg_tumor_size\n",
       "Drug      Timepoint                \n",
       "Capomulin 0               45.000000\n",
       "          5               44.266086\n",
       "          10              43.084291\n",
       "          15              42.064317\n",
       "          20              40.716325"
      ]
     },
     "execution_count": 285,
     "metadata": {},
     "output_type": "execute_result"
    }
   ],
   "source": [
    "drug_tumor_size = pd.DataFrame(grouped[\"Tumor Volume (mm3)\"].mean())\n",
    "drug_tumor_size = drug_tumor_size.rename(columns={\"Tumor Volume (mm3)\":\"avg_tumor_size\"})\n",
    "drug_tumor_size.head()"
   ]
  },
  {
   "cell_type": "code",
   "execution_count": 286,
   "metadata": {},
   "outputs": [
    {
     "data": {
      "text/html": [
       "<div>\n",
       "<style scoped>\n",
       "    .dataframe tbody tr th:only-of-type {\n",
       "        vertical-align: middle;\n",
       "    }\n",
       "\n",
       "    .dataframe tbody tr th {\n",
       "        vertical-align: top;\n",
       "    }\n",
       "\n",
       "    .dataframe thead th {\n",
       "        text-align: right;\n",
       "    }\n",
       "</style>\n",
       "<table border=\"1\" class=\"dataframe\">\n",
       "  <thead>\n",
       "    <tr style=\"text-align: right;\">\n",
       "      <th></th>\n",
       "      <th></th>\n",
       "      <th>standard_err_of_tumor_size</th>\n",
       "    </tr>\n",
       "    <tr>\n",
       "      <th>Drug</th>\n",
       "      <th>Timepoint</th>\n",
       "      <th></th>\n",
       "    </tr>\n",
       "  </thead>\n",
       "  <tbody>\n",
       "    <tr>\n",
       "      <th rowspan=\"5\" valign=\"top\">Capomulin</th>\n",
       "      <th>0</th>\n",
       "      <td>0.000000</td>\n",
       "    </tr>\n",
       "    <tr>\n",
       "      <th>5</th>\n",
       "      <td>0.448593</td>\n",
       "    </tr>\n",
       "    <tr>\n",
       "      <th>10</th>\n",
       "      <td>0.702684</td>\n",
       "    </tr>\n",
       "    <tr>\n",
       "      <th>15</th>\n",
       "      <td>0.838617</td>\n",
       "    </tr>\n",
       "    <tr>\n",
       "      <th>20</th>\n",
       "      <td>0.909731</td>\n",
       "    </tr>\n",
       "  </tbody>\n",
       "</table>\n",
       "</div>"
      ],
      "text/plain": [
       "                     standard_err_of_tumor_size\n",
       "Drug      Timepoint                            \n",
       "Capomulin 0                            0.000000\n",
       "          5                            0.448593\n",
       "          10                           0.702684\n",
       "          15                           0.838617\n",
       "          20                           0.909731"
      ]
     },
     "execution_count": 286,
     "metadata": {},
     "output_type": "execute_result"
    }
   ],
   "source": [
    "# Store the Standard Error of Tumor Volumes Grouped by Drug and Timepoint\n",
    "grouped[\"Tumor Volume (mm3)\"].sem()\n",
    "\n",
    "# Convert to DataFrame\n",
    "drug_tumor_size_st_err = pd.DataFrame(grouped[\"Tumor Volume (mm3)\"].sem())\n",
    "drug_tumor_size_st_err = drug_tumor_size_st_err.rename(columns={\"Tumor Volume (mm3)\":\"standard_err_of_tumor_size\"})\n",
    "drug_tumor_size_st_err.head()"
   ]
  },
  {
   "cell_type": "code",
   "execution_count": 287,
   "metadata": {},
   "outputs": [
    {
     "data": {
      "text/html": [
       "<div>\n",
       "<style scoped>\n",
       "    .dataframe tbody tr th:only-of-type {\n",
       "        vertical-align: middle;\n",
       "    }\n",
       "\n",
       "    .dataframe tbody tr th {\n",
       "        vertical-align: top;\n",
       "    }\n",
       "\n",
       "    .dataframe thead th {\n",
       "        text-align: right;\n",
       "    }\n",
       "</style>\n",
       "<table border=\"1\" class=\"dataframe\">\n",
       "  <thead>\n",
       "    <tr style=\"text-align: right;\">\n",
       "      <th></th>\n",
       "      <th></th>\n",
       "      <th>mice_count</th>\n",
       "      <th>avg_tumor_size</th>\n",
       "      <th>standard_err_of_tumor_size</th>\n",
       "    </tr>\n",
       "    <tr>\n",
       "      <th>Drug</th>\n",
       "      <th>Timepoint</th>\n",
       "      <th></th>\n",
       "      <th></th>\n",
       "      <th></th>\n",
       "    </tr>\n",
       "  </thead>\n",
       "  <tbody>\n",
       "    <tr>\n",
       "      <th rowspan=\"5\" valign=\"top\">Capomulin</th>\n",
       "      <th>0</th>\n",
       "      <td>25</td>\n",
       "      <td>45.000000</td>\n",
       "      <td>0.000000</td>\n",
       "    </tr>\n",
       "    <tr>\n",
       "      <th>5</th>\n",
       "      <td>25</td>\n",
       "      <td>44.266086</td>\n",
       "      <td>0.448593</td>\n",
       "    </tr>\n",
       "    <tr>\n",
       "      <th>10</th>\n",
       "      <td>25</td>\n",
       "      <td>43.084291</td>\n",
       "      <td>0.702684</td>\n",
       "    </tr>\n",
       "    <tr>\n",
       "      <th>15</th>\n",
       "      <td>24</td>\n",
       "      <td>42.064317</td>\n",
       "      <td>0.838617</td>\n",
       "    </tr>\n",
       "    <tr>\n",
       "      <th>20</th>\n",
       "      <td>23</td>\n",
       "      <td>40.716325</td>\n",
       "      <td>0.909731</td>\n",
       "    </tr>\n",
       "  </tbody>\n",
       "</table>\n",
       "</div>"
      ],
      "text/plain": [
       "                     mice_count  avg_tumor_size  standard_err_of_tumor_size\n",
       "Drug      Timepoint                                                        \n",
       "Capomulin 0                  25       45.000000                    0.000000\n",
       "          5                  25       44.266086                    0.448593\n",
       "          10                 25       43.084291                    0.702684\n",
       "          15                 24       42.064317                    0.838617\n",
       "          20                 23       40.716325                    0.909731"
      ]
     },
     "execution_count": 287,
     "metadata": {},
     "output_type": "execute_result"
    }
   ],
   "source": [
    "# merge all trial data \n",
    "# drug_mouse_ct\n",
    "# drug_tumor_size\n",
    "# drug_tumor_size_st_err\n",
    "\n",
    "merge1 = pd.merge(drug_mouse_ct,drug_tumor_size,left_index=True,right_index=True)\n",
    "merge1.head()\n",
    "\n",
    "merged_final = pd.merge(merge1,drug_tumor_size_st_err,left_index=True,right_index=True)\n",
    "merged_final.tail()\n",
    "merged_final.head()"
   ]
  },
  {
   "cell_type": "code",
   "execution_count": 288,
   "metadata": {},
   "outputs": [],
   "source": [
    "# merged_final=merged_final.reset_index(inplace=False,drop=False)\n",
    "# merged_final.head()"
   ]
  },
  {
   "cell_type": "code",
   "execution_count": 289,
   "metadata": {},
   "outputs": [
    {
     "name": "stdout",
     "output_type": "stream",
     "text": [
      "(40, 3)\n"
     ]
    },
    {
     "data": {
      "text/html": [
       "<div>\n",
       "<style scoped>\n",
       "    .dataframe tbody tr th:only-of-type {\n",
       "        vertical-align: middle;\n",
       "    }\n",
       "\n",
       "    .dataframe tbody tr th {\n",
       "        vertical-align: top;\n",
       "    }\n",
       "\n",
       "    .dataframe thead th {\n",
       "        text-align: right;\n",
       "    }\n",
       "</style>\n",
       "<table border=\"1\" class=\"dataframe\">\n",
       "  <thead>\n",
       "    <tr style=\"text-align: right;\">\n",
       "      <th></th>\n",
       "      <th></th>\n",
       "      <th>mice_count</th>\n",
       "      <th>avg_tumor_size</th>\n",
       "      <th>standard_err_of_tumor_size</th>\n",
       "    </tr>\n",
       "    <tr>\n",
       "      <th>Drug</th>\n",
       "      <th>Timepoint</th>\n",
       "      <th></th>\n",
       "      <th></th>\n",
       "      <th></th>\n",
       "    </tr>\n",
       "  </thead>\n",
       "  <tbody>\n",
       "    <tr>\n",
       "      <th rowspan=\"10\" valign=\"top\">Capomulin</th>\n",
       "      <th>0</th>\n",
       "      <td>25</td>\n",
       "      <td>45.000000</td>\n",
       "      <td>0.000000</td>\n",
       "    </tr>\n",
       "    <tr>\n",
       "      <th>5</th>\n",
       "      <td>25</td>\n",
       "      <td>44.266086</td>\n",
       "      <td>0.448593</td>\n",
       "    </tr>\n",
       "    <tr>\n",
       "      <th>10</th>\n",
       "      <td>25</td>\n",
       "      <td>43.084291</td>\n",
       "      <td>0.702684</td>\n",
       "    </tr>\n",
       "    <tr>\n",
       "      <th>15</th>\n",
       "      <td>24</td>\n",
       "      <td>42.064317</td>\n",
       "      <td>0.838617</td>\n",
       "    </tr>\n",
       "    <tr>\n",
       "      <th>20</th>\n",
       "      <td>23</td>\n",
       "      <td>40.716325</td>\n",
       "      <td>0.909731</td>\n",
       "    </tr>\n",
       "    <tr>\n",
       "      <th>25</th>\n",
       "      <td>22</td>\n",
       "      <td>39.939528</td>\n",
       "      <td>0.881642</td>\n",
       "    </tr>\n",
       "    <tr>\n",
       "      <th>30</th>\n",
       "      <td>22</td>\n",
       "      <td>38.769339</td>\n",
       "      <td>0.934460</td>\n",
       "    </tr>\n",
       "    <tr>\n",
       "      <th>35</th>\n",
       "      <td>22</td>\n",
       "      <td>37.816839</td>\n",
       "      <td>1.052241</td>\n",
       "    </tr>\n",
       "    <tr>\n",
       "      <th>40</th>\n",
       "      <td>21</td>\n",
       "      <td>36.958001</td>\n",
       "      <td>1.223608</td>\n",
       "    </tr>\n",
       "    <tr>\n",
       "      <th>45</th>\n",
       "      <td>21</td>\n",
       "      <td>36.236114</td>\n",
       "      <td>1.223977</td>\n",
       "    </tr>\n",
       "  </tbody>\n",
       "</table>\n",
       "</div>"
      ],
      "text/plain": [
       "                     mice_count  avg_tumor_size  standard_err_of_tumor_size\n",
       "Drug      Timepoint                                                        \n",
       "Capomulin 0                  25       45.000000                    0.000000\n",
       "          5                  25       44.266086                    0.448593\n",
       "          10                 25       43.084291                    0.702684\n",
       "          15                 24       42.064317                    0.838617\n",
       "          20                 23       40.716325                    0.909731\n",
       "          25                 22       39.939528                    0.881642\n",
       "          30                 22       38.769339                    0.934460\n",
       "          35                 22       37.816839                    1.052241\n",
       "          40                 21       36.958001                    1.223608\n",
       "          45                 21       36.236114                    1.223977"
      ]
     },
     "execution_count": 289,
     "metadata": {},
     "output_type": "execute_result"
    }
   ],
   "source": [
    "merge_selected = merged_final.loc[[\"Capomulin\",\"Infubinol\",\"Placebo\",\"Ketapril\"]]\n",
    "print(merge_selected.shape)\n",
    "merge_selected.tail(10)\n",
    "merge_selected.head(10)"
   ]
  },
  {
   "cell_type": "code",
   "execution_count": 290,
   "metadata": {},
   "outputs": [],
   "source": [
    "# Generate the Plot (with Error Bars)\n",
    "\n",
    "# x_axis = array([ 0,  5, 10, 15, 20, 25, 30, 35, 40, 45])\n",
    "x_axis = np.arange(0,50,5)\n",
    "\n",
    "# means = avg tumor size for all four drugs\n",
    "cap_means = merge_selected.loc[\"Capomulin\",\"avg_tumor_size\"]\n",
    "inf_means = merge_selected.loc[\"Infubinol\",\"avg_tumor_size\"]\n",
    "ket_means = merge_selected.loc[\"Ketapril\",\"avg_tumor_size\"]\n",
    "pla_means = merge_selected.loc[\"Placebo\",\"avg_tumor_size\"]\n",
    "\n",
    "# standard error for all four drugs\n",
    "cap_sd_err = merge_selected.loc[\"Capomulin\",\"standard_err_of_tumor_size\"]\n",
    "inf_sd_err = merge_selected.loc[\"Infubinol\",\"standard_err_of_tumor_size\"]\n",
    "ket_sd_err = merge_selected.loc[\"Ketapril\",\"standard_err_of_tumor_size\"]\n",
    "pla_sd_err = merge_selected.loc[\"Placebo\",\"standard_err_of_tumor_size\"]"
   ]
  },
  {
   "cell_type": "code",
   "execution_count": 291,
   "metadata": {},
   "outputs": [
    {
     "data": {
      "image/png": "[encoded data removed]",
      "text/plain": [
       "<Figure size 432x288 with 1 Axes>"
      ]
     },
     "metadata": {
      "needs_background": "light"
     },
     "output_type": "display_data"
    }
   ],
   "source": [
    "# Save the Figure\n",
    "# legend didn't work\n",
    "\n",
    "plt.title(\"Avg tumor size by drug\")\n",
    "plt.ylabel(\"Tumor Volume (mm3)\")\n",
    "cap,a,b = plt.errorbar(x_axis,cap_means,yerr=cap_sd_err)\n",
    "inf,c,d = plt.errorbar(x_axis,inf_means,yerr=inf_sd_err)\n",
    "ket,e,f = plt.errorbar(x_axis,ket_means,yerr=ket_sd_err)\n",
    "pla,g,h = plt.errorbar(x_axis,pla_means,yerr=pla_sd_err)\n",
    "plt.legend(handles=[cap,inf,ket,pla],loc=\"best\")\n",
    "plt.savefig(\"../Images/avg_tumor_size_by_drug.png\")\n",
    "plt.show()"
   ]
  },
  {
   "cell_type": "markdown",
   "metadata": {},
   "source": [
    "## Metastatic Response to Treatment"
   ]
  },
  {
   "cell_type": "code",
   "execution_count": 292,
   "metadata": {},
   "outputs": [
    {
     "data": {
      "text/html": [
       "<div>\n",
       "<style scoped>\n",
       "    .dataframe tbody tr th:only-of-type {\n",
       "        vertical-align: middle;\n",
       "    }\n",
       "\n",
       "    .dataframe tbody tr th {\n",
       "        vertical-align: top;\n",
       "    }\n",
       "\n",
       "    .dataframe thead th {\n",
       "        text-align: right;\n",
       "    }\n",
       "</style>\n",
       "<table border=\"1\" class=\"dataframe\">\n",
       "  <thead>\n",
       "    <tr style=\"text-align: right;\">\n",
       "      <th></th>\n",
       "      <th></th>\n",
       "      <th>avg_mets_num</th>\n",
       "    </tr>\n",
       "    <tr>\n",
       "      <th>Drug</th>\n",
       "      <th>Timepoint</th>\n",
       "      <th></th>\n",
       "    </tr>\n",
       "  </thead>\n",
       "  <tbody>\n",
       "    <tr>\n",
       "      <th rowspan=\"5\" valign=\"top\">Capomulin</th>\n",
       "      <th>0</th>\n",
       "      <td>0.000000</td>\n",
       "    </tr>\n",
       "    <tr>\n",
       "      <th>5</th>\n",
       "      <td>0.160000</td>\n",
       "    </tr>\n",
       "    <tr>\n",
       "      <th>10</th>\n",
       "      <td>0.320000</td>\n",
       "    </tr>\n",
       "    <tr>\n",
       "      <th>15</th>\n",
       "      <td>0.375000</td>\n",
       "    </tr>\n",
       "    <tr>\n",
       "      <th>20</th>\n",
       "      <td>0.652174</td>\n",
       "    </tr>\n",
       "  </tbody>\n",
       "</table>\n",
       "</div>"
      ],
      "text/plain": [
       "                     avg_mets_num\n",
       "Drug      Timepoint              \n",
       "Capomulin 0              0.000000\n",
       "          5              0.160000\n",
       "          10             0.320000\n",
       "          15             0.375000\n",
       "          20             0.652174"
      ]
     },
     "execution_count": 292,
     "metadata": {},
     "output_type": "execute_result"
    }
   ],
   "source": [
    "# grouped = combined.groupby([\"Drug\",\"Timepoint\"])\n",
    "# Store the Mean Met. Site Data Grouped by Drug and Timepoint \n",
    "# Convert to DataFrame\n",
    "# Preview DataFrame\n",
    "\n",
    "drug_mets = pd.DataFrame(grouped[\"Metastatic Sites\"].mean())\n",
    "drug_mets = drug_mets.rename(columns={\"Metastatic Sites\":\"avg_mets_num\"})\n",
    "drug_mets.head()"
   ]
  },
  {
   "cell_type": "code",
   "execution_count": 293,
   "metadata": {},
   "outputs": [
    {
     "data": {
      "text/html": [
       "<div>\n",
       "<style scoped>\n",
       "    .dataframe tbody tr th:only-of-type {\n",
       "        vertical-align: middle;\n",
       "    }\n",
       "\n",
       "    .dataframe tbody tr th {\n",
       "        vertical-align: top;\n",
       "    }\n",
       "\n",
       "    .dataframe thead th {\n",
       "        text-align: right;\n",
       "    }\n",
       "</style>\n",
       "<table border=\"1\" class=\"dataframe\">\n",
       "  <thead>\n",
       "    <tr style=\"text-align: right;\">\n",
       "      <th></th>\n",
       "      <th></th>\n",
       "      <th>standard_err_of_mets_num</th>\n",
       "    </tr>\n",
       "    <tr>\n",
       "      <th>Drug</th>\n",
       "      <th>Timepoint</th>\n",
       "      <th></th>\n",
       "    </tr>\n",
       "  </thead>\n",
       "  <tbody>\n",
       "    <tr>\n",
       "      <th rowspan=\"5\" valign=\"top\">Capomulin</th>\n",
       "      <th>0</th>\n",
       "      <td>0.000000</td>\n",
       "    </tr>\n",
       "    <tr>\n",
       "      <th>5</th>\n",
       "      <td>0.074833</td>\n",
       "    </tr>\n",
       "    <tr>\n",
       "      <th>10</th>\n",
       "      <td>0.125433</td>\n",
       "    </tr>\n",
       "    <tr>\n",
       "      <th>15</th>\n",
       "      <td>0.132048</td>\n",
       "    </tr>\n",
       "    <tr>\n",
       "      <th>20</th>\n",
       "      <td>0.161621</td>\n",
       "    </tr>\n",
       "  </tbody>\n",
       "</table>\n",
       "</div>"
      ],
      "text/plain": [
       "                     standard_err_of_mets_num\n",
       "Drug      Timepoint                          \n",
       "Capomulin 0                          0.000000\n",
       "          5                          0.074833\n",
       "          10                         0.125433\n",
       "          15                         0.132048\n",
       "          20                         0.161621"
      ]
     },
     "execution_count": 293,
     "metadata": {},
     "output_type": "execute_result"
    }
   ],
   "source": [
    "# Store the Standard Error associated with Met. Sites Grouped by Drug and Timepoint \n",
    "# Convert to DataFrame\n",
    "# Preview DataFrame\n",
    "\n",
    "drug_mets_num_st_err = pd.DataFrame(grouped[\"Metastatic Sites\"].sem())\n",
    "drug_mets_num_st_err= drug_mets_num_st_err.rename(columns={\"Metastatic Sites\":\"standard_err_of_mets_num\"})\n",
    "drug_mets_num_st_err.head()"
   ]
  },
  {
   "cell_type": "code",
   "execution_count": 294,
   "metadata": {},
   "outputs": [
    {
     "data": {
      "text/html": [
       "<div>\n",
       "<style scoped>\n",
       "    .dataframe tbody tr th:only-of-type {\n",
       "        vertical-align: middle;\n",
       "    }\n",
       "\n",
       "    .dataframe tbody tr th {\n",
       "        vertical-align: top;\n",
       "    }\n",
       "\n",
       "    .dataframe thead th {\n",
       "        text-align: right;\n",
       "    }\n",
       "</style>\n",
       "<table border=\"1\" class=\"dataframe\">\n",
       "  <thead>\n",
       "    <tr style=\"text-align: right;\">\n",
       "      <th></th>\n",
       "      <th></th>\n",
       "      <th>avg_mets_num</th>\n",
       "      <th>standard_err_of_mets_num</th>\n",
       "    </tr>\n",
       "    <tr>\n",
       "      <th>Drug</th>\n",
       "      <th>Timepoint</th>\n",
       "      <th></th>\n",
       "      <th></th>\n",
       "    </tr>\n",
       "  </thead>\n",
       "  <tbody>\n",
       "    <tr>\n",
       "      <th rowspan=\"5\" valign=\"top\">Capomulin</th>\n",
       "      <th>0</th>\n",
       "      <td>0.000000</td>\n",
       "      <td>0.000000</td>\n",
       "    </tr>\n",
       "    <tr>\n",
       "      <th>5</th>\n",
       "      <td>0.160000</td>\n",
       "      <td>0.074833</td>\n",
       "    </tr>\n",
       "    <tr>\n",
       "      <th>10</th>\n",
       "      <td>0.320000</td>\n",
       "      <td>0.125433</td>\n",
       "    </tr>\n",
       "    <tr>\n",
       "      <th>15</th>\n",
       "      <td>0.375000</td>\n",
       "      <td>0.132048</td>\n",
       "    </tr>\n",
       "    <tr>\n",
       "      <th>20</th>\n",
       "      <td>0.652174</td>\n",
       "      <td>0.161621</td>\n",
       "    </tr>\n",
       "  </tbody>\n",
       "</table>\n",
       "</div>"
      ],
      "text/plain": [
       "                     avg_mets_num  standard_err_of_mets_num\n",
       "Drug      Timepoint                                        \n",
       "Capomulin 0              0.000000                  0.000000\n",
       "          5              0.160000                  0.074833\n",
       "          10             0.320000                  0.125433\n",
       "          15             0.375000                  0.132048\n",
       "          20             0.652174                  0.161621"
      ]
     },
     "execution_count": 294,
     "metadata": {},
     "output_type": "execute_result"
    }
   ],
   "source": [
    "merge3=pd.merge(drug_mets,drug_mets_num_st_err,left_index=True,right_index=True)\n",
    "merge3.head()"
   ]
  },
  {
   "cell_type": "code",
   "execution_count": 295,
   "metadata": {},
   "outputs": [
    {
     "data": {
      "text/plain": [
       "(40, 5)"
      ]
     },
     "execution_count": 295,
     "metadata": {},
     "output_type": "execute_result"
    }
   ],
   "source": [
    "# create final df with all columns - drug, timepoint, # of living mice, tumor size, # of mets\n",
    "\n",
    "merged_final2=pd.merge(merged_final,merge3,left_index=True,right_index=True)\n",
    "merge_selected2=merged_final2.loc[[\"Capomulin\",\"Infubinol\",\"Placebo\",\"Ketapril\"]]\n",
    "merge_selected2.shape"
   ]
  },
  {
   "cell_type": "code",
   "execution_count": 296,
   "metadata": {},
   "outputs": [
    {
     "data": {
      "text/html": [
       "<div>\n",
       "<style scoped>\n",
       "    .dataframe tbody tr th:only-of-type {\n",
       "        vertical-align: middle;\n",
       "    }\n",
       "\n",
       "    .dataframe tbody tr th {\n",
       "        vertical-align: top;\n",
       "    }\n",
       "\n",
       "    .dataframe thead th {\n",
       "        text-align: right;\n",
       "    }\n",
       "</style>\n",
       "<table border=\"1\" class=\"dataframe\">\n",
       "  <thead>\n",
       "    <tr style=\"text-align: right;\">\n",
       "      <th></th>\n",
       "      <th></th>\n",
       "      <th>mice_count</th>\n",
       "      <th>avg_tumor_size</th>\n",
       "      <th>standard_err_of_tumor_size</th>\n",
       "      <th>avg_mets_num</th>\n",
       "      <th>standard_err_of_mets_num</th>\n",
       "    </tr>\n",
       "    <tr>\n",
       "      <th>Drug</th>\n",
       "      <th>Timepoint</th>\n",
       "      <th></th>\n",
       "      <th></th>\n",
       "      <th></th>\n",
       "      <th></th>\n",
       "      <th></th>\n",
       "    </tr>\n",
       "  </thead>\n",
       "  <tbody>\n",
       "    <tr>\n",
       "      <th rowspan=\"3\" valign=\"top\">Capomulin</th>\n",
       "      <th>0</th>\n",
       "      <td>25</td>\n",
       "      <td>45.000000</td>\n",
       "      <td>0.000000</td>\n",
       "      <td>0.00</td>\n",
       "      <td>0.000000</td>\n",
       "    </tr>\n",
       "    <tr>\n",
       "      <th>5</th>\n",
       "      <td>25</td>\n",
       "      <td>44.266086</td>\n",
       "      <td>0.448593</td>\n",
       "      <td>0.16</td>\n",
       "      <td>0.074833</td>\n",
       "    </tr>\n",
       "    <tr>\n",
       "      <th>10</th>\n",
       "      <td>25</td>\n",
       "      <td>43.084291</td>\n",
       "      <td>0.702684</td>\n",
       "      <td>0.32</td>\n",
       "      <td>0.125433</td>\n",
       "    </tr>\n",
       "  </tbody>\n",
       "</table>\n",
       "</div>"
      ],
      "text/plain": [
       "                     mice_count  avg_tumor_size  standard_err_of_tumor_size  \\\n",
       "Drug      Timepoint                                                           \n",
       "Capomulin 0                  25       45.000000                    0.000000   \n",
       "          5                  25       44.266086                    0.448593   \n",
       "          10                 25       43.084291                    0.702684   \n",
       "\n",
       "                     avg_mets_num  standard_err_of_mets_num  \n",
       "Drug      Timepoint                                          \n",
       "Capomulin 0                  0.00                  0.000000  \n",
       "          5                  0.16                  0.074833  \n",
       "          10                 0.32                  0.125433  "
      ]
     },
     "execution_count": 296,
     "metadata": {},
     "output_type": "execute_result"
    }
   ],
   "source": [
    "merge_selected2.head(3)"
   ]
  },
  {
   "cell_type": "code",
   "execution_count": 297,
   "metadata": {},
   "outputs": [],
   "source": [
    "# Generate the Plot (with Error Bars)\n",
    "\n",
    "# x_axis = array([ 0,  5, 10, 15, 20, 25, 30, 35, 40, 45])\n",
    "x_axis = np.arange(0,50,5)\n",
    "\n",
    "# means = avg mets num for all four drugs\n",
    "cap_mets = merge_selected2.loc[\"Capomulin\",\"avg_mets_num\"]\n",
    "inf_mets = merge_selected2.loc[\"Infubinol\",\"avg_mets_num\"]\n",
    "ket_mets = merge_selected2.loc[\"Ketapril\",\"avg_mets_num\"]\n",
    "pla_mets = merge_selected2.loc[\"Placebo\",\"avg_mets_num\"]\n",
    "\n",
    "# standard error for all four drugs\n",
    "cap_mets_sd_err = merge_selected2.loc[\"Capomulin\",\"standard_err_of_mets_num\"]\n",
    "inf_mets_sd_err = merge_selected2.loc[\"Infubinol\",\"standard_err_of_mets_num\"]\n",
    "ket_mets_sd_err = merge_selected2.loc[\"Ketapril\",\"standard_err_of_mets_num\"]\n",
    "pla_mets_sd_err = merge_selected2.loc[\"Placebo\",\"standard_err_of_mets_num\"]"
   ]
  },
  {
   "cell_type": "code",
   "execution_count": 298,
   "metadata": {},
   "outputs": [
    {
     "data": {
      "image/png": "[encoded data removed]",
      "text/plain": [
       "<Figure size 432x288 with 1 Axes>"
      ]
     },
     "metadata": {
      "needs_background": "light"
     },
     "output_type": "display_data"
    }
   ],
   "source": [
    "plt.title(\"Avg number of met sites by drug\")\n",
    "plt.ylabel(\"Met Sites\")\n",
    "plt.errorbar(x_axis,cap_mets,yerr=cap_mets_sd_err)\n",
    "plt.errorbar(x_axis,inf_mets,yerr=inf_mets_sd_err)\n",
    "plt.errorbar(x_axis,ket_mets,yerr=ket_mets_sd_err)\n",
    "plt.errorbar(x_axis,pla_mets,yerr=pla_mets_sd_err)\n",
    "plt.grid()\n",
    "plt.savefig(\"../Images/avg_num_of_met_sites_by_drug.png\")\n",
    "plt.show()"
   ]
  },
  {
   "cell_type": "markdown",
   "metadata": {},
   "source": [
    "## Survival Rates"
   ]
  },
  {
   "cell_type": "code",
   "execution_count": 299,
   "metadata": {},
   "outputs": [
    {
     "data": {
      "text/html": [
       "<div>\n",
       "<style scoped>\n",
       "    .dataframe tbody tr th:only-of-type {\n",
       "        vertical-align: middle;\n",
       "    }\n",
       "\n",
       "    .dataframe tbody tr th {\n",
       "        vertical-align: top;\n",
       "    }\n",
       "\n",
       "    .dataframe thead th {\n",
       "        text-align: right;\n",
       "    }\n",
       "</style>\n",
       "<table border=\"1\" class=\"dataframe\">\n",
       "  <thead>\n",
       "    <tr style=\"text-align: right;\">\n",
       "      <th></th>\n",
       "      <th></th>\n",
       "      <th>mice_count</th>\n",
       "      <th>avg_tumor_size</th>\n",
       "      <th>standard_err_of_tumor_size</th>\n",
       "      <th>avg_mets_num</th>\n",
       "      <th>standard_err_of_mets_num</th>\n",
       "      <th>percent_mice_alive_%</th>\n",
       "    </tr>\n",
       "    <tr>\n",
       "      <th>Drug</th>\n",
       "      <th>Timepoint</th>\n",
       "      <th></th>\n",
       "      <th></th>\n",
       "      <th></th>\n",
       "      <th></th>\n",
       "      <th></th>\n",
       "      <th></th>\n",
       "    </tr>\n",
       "  </thead>\n",
       "  <tbody>\n",
       "    <tr>\n",
       "      <th rowspan=\"5\" valign=\"top\">Capomulin</th>\n",
       "      <th>0</th>\n",
       "      <td>25</td>\n",
       "      <td>45.000000</td>\n",
       "      <td>0.000000</td>\n",
       "      <td>0.000000</td>\n",
       "      <td>0.000000</td>\n",
       "      <td>100.0</td>\n",
       "    </tr>\n",
       "    <tr>\n",
       "      <th>5</th>\n",
       "      <td>25</td>\n",
       "      <td>44.266086</td>\n",
       "      <td>0.448593</td>\n",
       "      <td>0.160000</td>\n",
       "      <td>0.074833</td>\n",
       "      <td>100.0</td>\n",
       "    </tr>\n",
       "    <tr>\n",
       "      <th>10</th>\n",
       "      <td>25</td>\n",
       "      <td>43.084291</td>\n",
       "      <td>0.702684</td>\n",
       "      <td>0.320000</td>\n",
       "      <td>0.125433</td>\n",
       "      <td>100.0</td>\n",
       "    </tr>\n",
       "    <tr>\n",
       "      <th>15</th>\n",
       "      <td>24</td>\n",
       "      <td>42.064317</td>\n",
       "      <td>0.838617</td>\n",
       "      <td>0.375000</td>\n",
       "      <td>0.132048</td>\n",
       "      <td>96.0</td>\n",
       "    </tr>\n",
       "    <tr>\n",
       "      <th>20</th>\n",
       "      <td>23</td>\n",
       "      <td>40.716325</td>\n",
       "      <td>0.909731</td>\n",
       "      <td>0.652174</td>\n",
       "      <td>0.161621</td>\n",
       "      <td>92.0</td>\n",
       "    </tr>\n",
       "  </tbody>\n",
       "</table>\n",
       "</div>"
      ],
      "text/plain": [
       "                     mice_count  avg_tumor_size  standard_err_of_tumor_size  \\\n",
       "Drug      Timepoint                                                           \n",
       "Capomulin 0                  25       45.000000                    0.000000   \n",
       "          5                  25       44.266086                    0.448593   \n",
       "          10                 25       43.084291                    0.702684   \n",
       "          15                 24       42.064317                    0.838617   \n",
       "          20                 23       40.716325                    0.909731   \n",
       "\n",
       "                     avg_mets_num  standard_err_of_mets_num  \\\n",
       "Drug      Timepoint                                           \n",
       "Capomulin 0              0.000000                  0.000000   \n",
       "          5              0.160000                  0.074833   \n",
       "          10             0.320000                  0.125433   \n",
       "          15             0.375000                  0.132048   \n",
       "          20             0.652174                  0.161621   \n",
       "\n",
       "                     percent_mice_alive_%  \n",
       "Drug      Timepoint                        \n",
       "Capomulin 0                         100.0  \n",
       "          5                         100.0  \n",
       "          10                        100.0  \n",
       "          15                         96.0  \n",
       "          20                         92.0  "
      ]
     },
     "execution_count": 299,
     "metadata": {},
     "output_type": "execute_result"
    }
   ],
   "source": [
    "# Store the Count of Mice Grouped by Drug and Timepoint (W can pass any metric)\n",
    "# Convert to DataFrame\n",
    "# Preview DataFrame\n",
    "merge_selected2[\"percent_mice_alive_%\"] = merge_selected2[\"mice_count\"]/25*100\n",
    "merge_selected2.head()"
   ]
  },
  {
   "cell_type": "code",
   "execution_count": 300,
   "metadata": {},
   "outputs": [],
   "source": [
    "# Generate the Plot (Accounting for percentages)\n",
    "\n",
    "# x_axis = array([ 0,  5, 10, 15, 20, 25, 30, 35, 40, 45])\n",
    "x_axis = np.arange(0,50,5)\n",
    "\n",
    "# means = avg mets num for all four drugs\n",
    "cap_rates = merge_selected2.loc[\"Capomulin\",\"percent_mice_alive_%\"]\n",
    "inf_rates = merge_selected2.loc[\"Infubinol\",\"percent_mice_alive_%\"]\n",
    "ket_rates = merge_selected2.loc[\"Ketapril\",\"percent_mice_alive_%\"]\n",
    "pla_rates = merge_selected2.loc[\"Placebo\",\"percent_mice_alive_%\"]"
   ]
  },
  {
   "cell_type": "code",
   "execution_count": 301,
   "metadata": {},
   "outputs": [
    {
     "data": {
      "image/png": "[encoded data removed]",
      "text/plain": [
       "<Figure size 432x288 with 1 Axes>"
      ]
     },
     "metadata": {
      "needs_background": "light"
     },
     "output_type": "display_data"
    }
   ],
   "source": [
    "plt.title(\"Survival During TRx\")\n",
    "plt.ylabel(\"Survival Rate\")\n",
    "plt.plot(x_axis,cap_rates)\n",
    "plt.plot(x_axis,inf_rates)\n",
    "plt.plot(x_axis,ket_rates)\n",
    "plt.plot(x_axis,pla_rates)\n",
    "plt.grid()\n",
    "plt.savefig(\"../Images/survival_rate_by_drug.png\")\n",
    "plt.show()"
   ]
  },
  {
   "cell_type": "markdown",
   "metadata": {},
   "source": [
    "## Summary Bar Graph"
   ]
  },
  {
   "cell_type": "code",
   "execution_count": 302,
   "metadata": {},
   "outputs": [
    {
     "data": {
      "text/html": [
       "<div>\n",
       "<style scoped>\n",
       "    .dataframe tbody tr th:only-of-type {\n",
       "        vertical-align: middle;\n",
       "    }\n",
       "\n",
       "    .dataframe tbody tr th {\n",
       "        vertical-align: top;\n",
       "    }\n",
       "\n",
       "    .dataframe thead th {\n",
       "        text-align: right;\n",
       "    }\n",
       "</style>\n",
       "<table border=\"1\" class=\"dataframe\">\n",
       "  <thead>\n",
       "    <tr style=\"text-align: right;\">\n",
       "      <th></th>\n",
       "      <th></th>\n",
       "      <th>mice_count</th>\n",
       "      <th>avg_tumor_size</th>\n",
       "      <th>standard_err_of_tumor_size</th>\n",
       "      <th>avg_mets_num</th>\n",
       "      <th>standard_err_of_mets_num</th>\n",
       "      <th>percent_mice_alive_%</th>\n",
       "    </tr>\n",
       "    <tr>\n",
       "      <th>Drug</th>\n",
       "      <th>Timepoint</th>\n",
       "      <th></th>\n",
       "      <th></th>\n",
       "      <th></th>\n",
       "      <th></th>\n",
       "      <th></th>\n",
       "      <th></th>\n",
       "    </tr>\n",
       "  </thead>\n",
       "  <tbody>\n",
       "    <tr>\n",
       "      <th rowspan=\"5\" valign=\"top\">Capomulin</th>\n",
       "      <th>0</th>\n",
       "      <td>25</td>\n",
       "      <td>45.000000</td>\n",
       "      <td>0.000000</td>\n",
       "      <td>0.000000</td>\n",
       "      <td>0.000000</td>\n",
       "      <td>100.0</td>\n",
       "    </tr>\n",
       "    <tr>\n",
       "      <th>5</th>\n",
       "      <td>25</td>\n",
       "      <td>44.266086</td>\n",
       "      <td>0.448593</td>\n",
       "      <td>0.160000</td>\n",
       "      <td>0.074833</td>\n",
       "      <td>100.0</td>\n",
       "    </tr>\n",
       "    <tr>\n",
       "      <th>10</th>\n",
       "      <td>25</td>\n",
       "      <td>43.084291</td>\n",
       "      <td>0.702684</td>\n",
       "      <td>0.320000</td>\n",
       "      <td>0.125433</td>\n",
       "      <td>100.0</td>\n",
       "    </tr>\n",
       "    <tr>\n",
       "      <th>15</th>\n",
       "      <td>24</td>\n",
       "      <td>42.064317</td>\n",
       "      <td>0.838617</td>\n",
       "      <td>0.375000</td>\n",
       "      <td>0.132048</td>\n",
       "      <td>96.0</td>\n",
       "    </tr>\n",
       "    <tr>\n",
       "      <th>20</th>\n",
       "      <td>23</td>\n",
       "      <td>40.716325</td>\n",
       "      <td>0.909731</td>\n",
       "      <td>0.652174</td>\n",
       "      <td>0.161621</td>\n",
       "      <td>92.0</td>\n",
       "    </tr>\n",
       "  </tbody>\n",
       "</table>\n",
       "</div>"
      ],
      "text/plain": [
       "                     mice_count  avg_tumor_size  standard_err_of_tumor_size  \\\n",
       "Drug      Timepoint                                                           \n",
       "Capomulin 0                  25       45.000000                    0.000000   \n",
       "          5                  25       44.266086                    0.448593   \n",
       "          10                 25       43.084291                    0.702684   \n",
       "          15                 24       42.064317                    0.838617   \n",
       "          20                 23       40.716325                    0.909731   \n",
       "\n",
       "                     avg_mets_num  standard_err_of_mets_num  \\\n",
       "Drug      Timepoint                                           \n",
       "Capomulin 0              0.000000                  0.000000   \n",
       "          5              0.160000                  0.074833   \n",
       "          10             0.320000                  0.125433   \n",
       "          15             0.375000                  0.132048   \n",
       "          20             0.652174                  0.161621   \n",
       "\n",
       "                     percent_mice_alive_%  \n",
       "Drug      Timepoint                        \n",
       "Capomulin 0                         100.0  \n",
       "          5                         100.0  \n",
       "          10                        100.0  \n",
       "          15                         96.0  \n",
       "          20                         92.0  "
      ]
     },
     "execution_count": 302,
     "metadata": {},
     "output_type": "execute_result"
    }
   ],
   "source": [
    "merge_selected2.head()"
   ]
  },
  {
   "cell_type": "code",
   "execution_count": 303,
   "metadata": {},
   "outputs": [
    {
     "name": "stdout",
     "output_type": "stream",
     "text": [
      "-19.475302667894173 46.12347172785187 57.028794686606076 51.29796048315153\n"
     ]
    }
   ],
   "source": [
    "# Calculate the percent changes for each drug\n",
    "df = merge_selected2\n",
    "\n",
    "cap_change = (df.loc[\"Capomulin\",45][\"avg_tumor_size\"] - df.loc[\"Capomulin\",0][\"avg_tumor_size\"])/df.loc[\"Capomulin\",0][\"avg_tumor_size\"]\n",
    "inf_change = (df.loc[\"Infubinol\",45][\"avg_tumor_size\"] - df.loc[\"Infubinol\",0][\"avg_tumor_size\"])/df.loc[\"Infubinol\",0][\"avg_tumor_size\"]\n",
    "ket_change = (df.loc[\"Ketapril\",45][\"avg_tumor_size\"] - df.loc[\"Ketapril\",0][\"avg_tumor_size\"])/df.loc[\"Ketapril\",0][\"avg_tumor_size\"]\n",
    "pla_change = (df.loc[\"Placebo\",45][\"avg_tumor_size\"] - df.loc[\"Placebo\",0][\"avg_tumor_size\"])/df.loc[\"Placebo\",0][\"avg_tumor_size\"]\n",
    "\n",
    "\n",
    "cap_change = cap_change * 100\n",
    "inf_change = inf_change *100\n",
    "ket_change = ket_change*100\n",
    "pla_change = pla_change* 100\n",
    "\n",
    "# Display the data to confirm\n",
    "print(cap_change,inf_change,ket_change,pla_change)"
   ]
  },
  {
   "cell_type": "code",
   "execution_count": 304,
   "metadata": {},
   "outputs": [],
   "source": [
    "bar = (cap_change,inf_change,ket_change,pla_change)\n",
    "x_axis = (\"Capomulin\",\"Infubinol\",\"Ketapril\",\"Placebo\")"
   ]
  },
  {
   "cell_type": "code",
   "execution_count": 305,
   "metadata": {},
   "outputs": [
    {
     "data": {
      "image/png": "[encoded data removed]",
      "text/plain": [
       "<Figure size 432x288 with 1 Axes>"
      ]
     },
     "metadata": {
      "needs_background": "light"
     },
     "output_type": "display_data"
    }
   ],
   "source": [
    "plt.bar(x_axis,bar,color=[\"g\",\"r\",\"r\",\"r\"],align=\"center\")\n",
    "plt.grid()\n",
    "plt.title(\"Tumor size change over 45 days\")\n",
    "plt.ylabel(\"% tumor size change\")\n",
    "plt.savefig(\"../Images/Tumor_size_change_over_45_days_by_drug.png\")\n",
    "plt.show()"
   ]
  }
 ],
 "metadata": {
  "anaconda-cloud": {},
  "kernelspec": {
   "display_name": "Python 3",
   "language": "python",
   "name": "python3"
  },
  "language_info": {
   "codemirror_mode": {
    "name": "ipython",
    "version": 3
   },
   "file_extension": ".py",
   "mimetype": "text/x-python",
   "name": "python",
   "nbconvert_exporter": "python",
   "pygments_lexer": "ipython3",
   "version": "3.6.9"
  }
 },
 "nbformat": 4,
 "nbformat_minor": 1
}
